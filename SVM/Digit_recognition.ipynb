{
  "nbformat": 4,
  "nbformat_minor": 0,
  "metadata": {
    "colab": {
      "name": "Digit-recognition.ipynb",
      "provenance": [],
      "collapsed_sections": []
    },
    "kernelspec": {
      "name": "python3",
      "display_name": "Python 3"
    },
    "language_info": {
      "name": "python"
    }
  },
  "cells": [
    {
      "cell_type": "markdown",
      "metadata": {
        "id": "GztgqYzLwYq4"
      },
      "source": [
        "Predicting digits from digit's bit-image."
      ]
    },
    {
      "cell_type": "code",
      "metadata": {
        "id": "B5oct00xmLpH"
      },
      "source": [
        "import matplotlib.pyplot as plt\n",
        "\n",
        "from sklearn import datasets\n",
        "\n",
        "from sklearn import svm\n",
        "\n",
        "%matplotlib inline\n",
        "\n"
      ],
      "execution_count": 17,
      "outputs": []
    },
    {
      "cell_type": "code",
      "metadata": {
        "colab": {
          "base_uri": "https://localhost:8080/"
        },
        "id": "y0QnxLCUnd5A",
        "outputId": "cb4c8181-f9a1-4cc8-f92d-b950a41dd77e"
      },
      "source": [
        "digits = datasets.load_digits()\n",
        "\n",
        "print(digits.data)\n",
        "\n",
        "print(digits.target)\n",
        "\n",
        "print(digits.images[0])\n",
        "\n",
        "print(len(digits.data))"
      ],
      "execution_count": 31,
      "outputs": [
        {
          "output_type": "stream",
          "name": "stdout",
          "text": [
            "[[ 0.  0.  5. ...  0.  0.  0.]\n",
            " [ 0.  0.  0. ... 10.  0.  0.]\n",
            " [ 0.  0.  0. ... 16.  9.  0.]\n",
            " ...\n",
            " [ 0.  0.  1. ...  6.  0.  0.]\n",
            " [ 0.  0.  2. ... 12.  0.  0.]\n",
            " [ 0.  0. 10. ... 12.  1.  0.]]\n",
            "[0 1 2 ... 8 9 8]\n",
            "[[ 0.  0.  5. 13.  9.  1.  0.  0.]\n",
            " [ 0.  0. 13. 15. 10. 15.  5.  0.]\n",
            " [ 0.  3. 15.  2.  0. 11.  8.  0.]\n",
            " [ 0.  4. 12.  0.  0.  8.  8.  0.]\n",
            " [ 0.  5.  8.  0.  0.  9.  8.  0.]\n",
            " [ 0.  4. 11.  0.  1. 12.  7.  0.]\n",
            " [ 0.  2. 14.  5. 10. 12.  0.  0.]\n",
            " [ 0.  0.  6. 13. 10.  0.  0.  0.]]\n",
            "1797\n"
          ]
        }
      ]
    },
    {
      "cell_type": "code",
      "metadata": {
        "id": "scQzv8VcoYLT"
      },
      "source": [
        "clf = svm.SVC(gamma=0.001,C=100)\n",
        "\n",
        "x,y = digits.data[:-10], digits.target[:-10]\n"
      ],
      "execution_count": 62,
      "outputs": []
    },
    {
      "cell_type": "code",
      "metadata": {
        "colab": {
          "base_uri": "https://localhost:8080/"
        },
        "id": "SEok5zuApAxS",
        "outputId": "91416e6e-5eb8-4190-f3e2-03480b2b3f69"
      },
      "source": [
        "clf.fit(x,y)"
      ],
      "execution_count": 64,
      "outputs": [
        {
          "output_type": "execute_result",
          "data": {
            "text/plain": [
              "SVC(C=100, break_ties=False, cache_size=200, class_weight=None, coef0=0.0,\n",
              "    decision_function_shape='ovr', degree=3, gamma=0.001, kernel='rbf',\n",
              "    max_iter=-1, probability=False, random_state=None, shrinking=True,\n",
              "    tol=0.001, verbose=False)"
            ]
          },
          "metadata": {},
          "execution_count": 64
        }
      ]
    },
    {
      "cell_type": "code",
      "metadata": {
        "colab": {
          "base_uri": "https://localhost:8080/"
        },
        "id": "U_jwu8OLpKU2",
        "outputId": "d19d8d4d-c69c-4d04-e877-b17b3359bc14"
      },
      "source": [
        "clf.predict(digits.data[:-1])"
      ],
      "execution_count": 45,
      "outputs": [
        {
          "output_type": "execute_result",
          "data": {
            "text/plain": [
              "array([0, 1, 2, ..., 0, 8, 9])"
            ]
          },
          "metadata": {},
          "execution_count": 45
        }
      ]
    },
    {
      "cell_type": "code",
      "metadata": {
        "colab": {
          "base_uri": "https://localhost:8080/",
          "height": 282
        },
        "id": "FJTfwDIxqOpY",
        "outputId": "e4cd4076-7cc4-4129-fb49-73d406c1df77"
      },
      "source": [
        "plt.imshow(digits.images[-2],cmap=plt.cm.gray_r,interpolation=\"nearest\")"
      ],
      "execution_count": 48,
      "outputs": [
        {
          "output_type": "execute_result",
          "data": {
            "text/plain": [
              "<matplotlib.image.AxesImage at 0x7fa3a56f4ad0>"
            ]
          },
          "metadata": {},
          "execution_count": 48
        },
        {
          "output_type": "display_data",
          "data": {
            "image/png": "[encoded data removed]",
            "text/plain": [
              "<Figure size 432x288 with 1 Axes>"
            ]
          },
          "metadata": {
            "needs_background": "light"
          }
        }
      ]
    },
    {
      "cell_type": "code",
      "metadata": {
        "colab": {
          "base_uri": "https://localhost:8080/"
        },
        "id": "hH43Z3EpsFaN",
        "outputId": "d3aef52a-d67a-4212-d824-cc9b193a5b22"
      },
      "source": [
        "print(clf.predict([digits.data[-2]]))"
      ],
      "execution_count": 68,
      "outputs": [
        {
          "output_type": "stream",
          "name": "stdout",
          "text": [
            "[9]\n"
          ]
        }
      ]
    },
    {
      "cell_type": "markdown",
      "metadata": {
        "id": "wtarbOE7u5mp"
      },
      "source": [
        "user input\n"
      ]
    },
    {
      "cell_type": "code",
      "metadata": {
        "colab": {
          "base_uri": "https://localhost:8080/",
          "height": 367
        },
        "id": "319_nxlNu-8o",
        "outputId": "6f32e8a7-46de-483a-d38f-f94ff51ba4e1"
      },
      "source": [
        "print(\"Note. array size is 1700\")\n",
        "\n",
        "x = int(input(\"Enter an index of dataset \"))\n",
        "\n",
        "#print(x,type(x))\n",
        "\n",
        "\n",
        "\n",
        "plt.imshow(digits.images[x],cmap=plt.cm.gray_r,interpolation=\"nearest\")\n",
        "\n",
        "print(\"\\n Predicted Digit :\",clf.predict([digits.data[x]]))\n",
        "\n",
        "\n",
        "print(\"\\n digit bit image\")\n",
        "\n",
        "\n"
      ],
      "execution_count": 75,
      "outputs": [
        {
          "output_type": "stream",
          "name": "stdout",
          "text": [
            "Note. array size is 1700\n",
            "Enter an index of dataset 1000\n",
            "\n",
            " Predicted Digit : [1]\n",
            "\n",
            " digit bit image\n"
          ]
        },
        {
          "output_type": "display_data",
          "data": {
            "image/png": "[encoded data removed]",
            "text/plain": [
              "<Figure size 432x288 with 1 Axes>"
            ]
          },
          "metadata": {
            "needs_background": "light"
          }
        }
      ]
    }
  ]
}